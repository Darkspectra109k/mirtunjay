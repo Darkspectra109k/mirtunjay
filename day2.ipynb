{
 "cells": [
  {
   "cell_type": "code",
   "execution_count": 2,
   "id": "0132e655",
   "metadata": {},
   "outputs": [
    {
     "name": "stdout",
     "output_type": "stream",
     "text": [
      "['apple', 'banana', 'cherry', 'date', 'elderberry']\n",
      "date\n",
      "['banana', 'cherry']\n",
      "['elderberry', 'date', 'cherry', 'banana', 'apple']\n"
     ]
    }
   ],
   "source": [
    "fruit=[\"apple\", \"banana\", \"cherry\", \"date\", \"elderberry\"]\n",
    "print(fruit)\n",
    "print(fruit[3])\n",
    "print(fruit[1:3])\n",
    "print(fruit[::-1])"
   ]
  },
  {
   "cell_type": "code",
   "execution_count": 3,
   "id": "ced8b30b",
   "metadata": {},
   "outputs": [
    {
     "name": "stdout",
     "output_type": "stream",
     "text": [
      "['__add__', '__class__', '__class_getitem__', '__contains__', '__delattr__', '__delitem__', '__dir__', '__doc__', '__eq__', '__format__', '__ge__', '__getattribute__', '__getitem__', '__getstate__', '__gt__', '__hash__', '__iadd__', '__imul__', '__init__', '__init_subclass__', '__iter__', '__le__', '__len__', '__lt__', '__mul__', '__ne__', '__new__', '__reduce__', '__reduce_ex__', '__repr__', '__reversed__', '__rmul__', '__setattr__', '__setitem__', '__sizeof__', '__str__', '__subclasshook__', 'append', 'clear', 'copy', 'count', 'extend', 'index', 'insert', 'pop', 'remove', 'reverse', 'sort']\n"
     ]
    }
   ],
   "source": [
    "print(dir(fruit))"
   ]
  },
  {
   "cell_type": "code",
   "execution_count": 4,
   "id": "3b16c2ac",
   "metadata": {},
   "outputs": [
    {
     "name": "stdout",
     "output_type": "stream",
     "text": [
      "5\n"
     ]
    }
   ],
   "source": [
    "print(len(fruit))"
   ]
  },
  {
   "cell_type": "code",
   "execution_count": 5,
   "id": "61097b3e",
   "metadata": {},
   "outputs": [],
   "source": [
    "fruit[0]=\"pineapple\""
   ]
  },
  {
   "cell_type": "code",
   "execution_count": 6,
   "id": "8d52a59b",
   "metadata": {},
   "outputs": [
    {
     "data": {
      "text/plain": [
       "False"
      ]
     },
     "execution_count": 6,
     "metadata": {},
     "output_type": "execute_result"
    }
   ],
   "source": [
    "\"apple\" in fruit"
   ]
  },
  {
   "cell_type": "code",
   "execution_count": 7,
   "id": "21bad536",
   "metadata": {},
   "outputs": [],
   "source": [
    "fruit.append(\"fig\")"
   ]
  },
  {
   "cell_type": "code",
   "execution_count": 9,
   "id": "c150e95d",
   "metadata": {},
   "outputs": [
    {
     "name": "stdout",
     "output_type": "stream",
     "text": [
      "['pineapple', 'banana', 'cherry', 'date', 'elderberry', 'fig']\n"
     ]
    }
   ],
   "source": [
    "print(fruit[::])"
   ]
  },
  {
   "cell_type": "code",
   "execution_count": 10,
   "id": "aa24ec35",
   "metadata": {},
   "outputs": [
    {
     "data": {
      "text/plain": [
       "'banana'"
      ]
     },
     "execution_count": 10,
     "metadata": {},
     "output_type": "execute_result"
    }
   ],
   "source": [
    "fruit.pop(1 )"
   ]
  },
  {
   "cell_type": "code",
   "execution_count": 11,
   "id": "416a27ef",
   "metadata": {},
   "outputs": [],
   "source": [
    "fruit.insert(1, \"grape\")"
   ]
  },
  {
   "cell_type": "code",
   "execution_count": 12,
   "id": "5b13902d",
   "metadata": {},
   "outputs": [
    {
     "name": "stdout",
     "output_type": "stream",
     "text": [
      "['pineapple', 'grape', 'cherry', 'date', 'elderberry', 'fig']\n"
     ]
    }
   ],
   "source": [
    "print(fruit[::])"
   ]
  },
  {
   "cell_type": "code",
   "execution_count": 3,
   "id": "e7de97e7",
   "metadata": {},
   "outputs": [],
   "source": [
    "# Make sure to run the previous cells where 'fruit' is defined before running this cell.\n",
    "fruit.sort()"
   ]
  },
  {
   "cell_type": "code",
   "execution_count": 4,
   "id": "12115cb3",
   "metadata": {},
   "outputs": [
    {
     "name": "stdout",
     "output_type": "stream",
     "text": [
      "['apple', 'banana', 'cherry', 'date', 'elderberry']\n"
     ]
    }
   ],
   "source": [
    "print(fruit[::])"
   ]
  },
  {
   "cell_type": "code",
   "execution_count": 6,
   "id": "0c1c0b5b",
   "metadata": {},
   "outputs": [
    {
     "name": "stdout",
     "output_type": "stream",
     "text": [
      "1\n"
     ]
    }
   ],
   "source": [
    "print(fruit.index(\"banana\"))"
   ]
  },
  {
   "cell_type": "code",
   "execution_count": 7,
   "id": "d8947ffa",
   "metadata": {},
   "outputs": [
    {
     "name": "stdout",
     "output_type": "stream",
     "text": [
      "1\n"
     ]
    }
   ],
   "source": [
    "print(fruit.count(\"banana\"))"
   ]
  },
  {
   "cell_type": "code",
   "execution_count": 8,
   "id": "bcd0aed5",
   "metadata": {},
   "outputs": [
    {
     "name": "stdout",
     "output_type": "stream",
     "text": [
      "True\n"
     ]
    }
   ],
   "source": [
    "list1=[1,2,3,[4,5]]\n",
    "print(1 in list1)"
   ]
  },
  {
   "cell_type": "code",
   "execution_count": 10,
   "id": "453590fb",
   "metadata": {},
   "outputs": [
    {
     "name": "stdout",
     "output_type": "stream",
     "text": [
      "True\n"
     ]
    }
   ],
   "source": [
    "print(4 in list1[3])"
   ]
  },
  {
   "cell_type": "code",
   "execution_count": 11,
   "id": "f8b686ea",
   "metadata": {},
   "outputs": [],
   "source": [
    "list=[1,2,3,[4,5,[6,7,8],9]]"
   ]
  },
  {
   "cell_type": "code",
   "execution_count": 12,
   "id": "ae25580c",
   "metadata": {},
   "outputs": [
    {
     "name": "stdout",
     "output_type": "stream",
     "text": [
      "[4, 5, [6, 7, 8], 9]\n"
     ]
    }
   ],
   "source": [
    "print(list[3])"
   ]
  },
  {
   "cell_type": "code",
   "execution_count": 13,
   "id": "5344e9dc",
   "metadata": {},
   "outputs": [
    {
     "name": "stdout",
     "output_type": "stream",
     "text": [
      "[6, 7, 8]\n"
     ]
    }
   ],
   "source": [
    "print(list[3][2])"
   ]
  },
  {
   "cell_type": "code",
   "execution_count": 15,
   "id": "e4a6c57c",
   "metadata": {},
   "outputs": [
    {
     "name": "stdout",
     "output_type": "stream",
     "text": [
      "7\n"
     ]
    }
   ],
   "source": [
    "print(list[3][2][1])"
   ]
  },
  {
   "cell_type": "code",
   "execution_count": 21,
   "id": "c18a3815",
   "metadata": {},
   "outputs": [
    {
     "name": "stdout",
     "output_type": "stream",
     "text": [
      "[1, 4, 9, 16, 25]\n"
     ]
    }
   ],
   "source": [
    "squares=[x**2 for x in range(1,6)]\n",
    "print(squares)"
   ]
  },
  {
   "cell_type": "code",
   "execution_count": 22,
   "id": "962d2e2e",
   "metadata": {},
   "outputs": [
    {
     "name": "stdout",
     "output_type": "stream",
     "text": [
      "['APPLE', 'BANANA', 'CHERRY']\n"
     ]
    }
   ],
   "source": [
    "words=['apple', 'banana', 'cherry']\n",
    "uppercased= [word.upper() for word in words]\n",
    "print(uppercased)"
   ]
  },
  {
   "cell_type": "code",
   "execution_count": 29,
   "id": "461ee054",
   "metadata": {},
   "outputs": [],
   "source": [
    "fruits = {\"apple\", \"orange\", \"banana\", \"kiwi\",\"apple\",\"orange\"}"
   ]
  },
  {
   "cell_type": "code",
   "execution_count": 30,
   "id": "fa122d65",
   "metadata": {},
   "outputs": [
    {
     "name": "stdout",
     "output_type": "stream",
     "text": [
      "['apple', 'banana', 'cherry', 'date', 'elderberry']\n"
     ]
    }
   ],
   "source": [
    "print(fruit[::])"
   ]
  },
  {
   "cell_type": "code",
   "execution_count": 26,
   "id": "e1ba71c4",
   "metadata": {},
   "outputs": [
    {
     "name": "stdout",
     "output_type": "stream",
     "text": [
      "['__and__', '__class__', '__class_getitem__', '__contains__', '__delattr__', '__dir__', '__doc__', '__eq__', '__format__', '__ge__', '__getattribute__', '__getstate__', '__gt__', '__hash__', '__iand__', '__init__', '__init_subclass__', '__ior__', '__isub__', '__iter__', '__ixor__', '__le__', '__len__', '__lt__', '__ne__', '__new__', '__or__', '__rand__', '__reduce__', '__reduce_ex__', '__repr__', '__ror__', '__rsub__', '__rxor__', '__setattr__', '__sizeof__', '__str__', '__sub__', '__subclasshook__', '__xor__', 'add', 'clear', 'copy', 'difference', 'difference_update', 'discard', 'intersection', 'intersection_update', 'isdisjoint', 'issubset', 'issuperset', 'pop', 'remove', 'symmetric_difference', 'symmetric_difference_update', 'union', 'update']\n"
     ]
    }
   ],
   "source": [
    "print(dir(fruits))"
   ]
  },
  {
   "cell_type": "code",
   "execution_count": 31,
   "id": "527032d4",
   "metadata": {},
   "outputs": [
    {
     "data": {
      "text/plain": [
       "'orange'"
      ]
     },
     "execution_count": 31,
     "metadata": {},
     "output_type": "execute_result"
    }
   ],
   "source": [
    "fruits.pop()"
   ]
  },
  {
   "cell_type": "code",
   "execution_count": 32,
   "id": "2b4c219a",
   "metadata": {},
   "outputs": [
    {
     "name": "stdout",
     "output_type": "stream",
     "text": [
      "{'banana', 'kiwi', 'apple'}\n"
     ]
    }
   ],
   "source": [
    "print(fruits)"
   ]
  },
  {
   "cell_type": "code",
   "execution_count": 33,
   "id": "83dd85c8",
   "metadata": {},
   "outputs": [],
   "source": [
    "superheroes = {\"Superman\", \"Batman\", \"Wonder\"}"
   ]
  },
  {
   "cell_type": "code",
   "execution_count": 35,
   "id": "dffd88a9",
   "metadata": {},
   "outputs": [
    {
     "ename": "KeyError",
     "evalue": "'Batman'",
     "output_type": "error",
     "traceback": [
      "\u001b[31m---------------------------------------------------------------------------\u001b[39m",
      "\u001b[31mKeyError\u001b[39m                                  Traceback (most recent call last)",
      "\u001b[36mCell\u001b[39m\u001b[36m \u001b[39m\u001b[32mIn[35]\u001b[39m\u001b[32m, line 1\u001b[39m\n\u001b[32m----> \u001b[39m\u001b[32m1\u001b[39m \u001b[43msuperheroes\u001b[49m\u001b[43m.\u001b[49m\u001b[43mremove\u001b[49m\u001b[43m(\u001b[49m\u001b[33;43m\"\u001b[39;49m\u001b[33;43mBatman\u001b[39;49m\u001b[33;43m\"\u001b[39;49m\u001b[43m)\u001b[49m\n",
      "\u001b[31mKeyError\u001b[39m: 'Batman'"
     ]
    }
   ],
   "source": [
    "superheroes.remove(\"Batman\")\n"
   ]
  },
  {
   "cell_type": "code",
   "execution_count": 36,
   "id": "5824a4d2",
   "metadata": {},
   "outputs": [],
   "source": [
    "superheroes.discard(\"Superman\")"
   ]
  },
  {
   "cell_type": "code",
   "execution_count": 37,
   "id": "2bc417af",
   "metadata": {},
   "outputs": [
    {
     "name": "stdout",
     "output_type": "stream",
     "text": [
      "('apple', 'orange', 'banana', 'kiwi')\n"
     ]
    }
   ],
   "source": [
    "fruits=(\"apple\", \"orange\", \"banana\", \"kiwi\")\n",
    "print(fruits)"
   ]
  },
  {
   "cell_type": "code",
   "execution_count": 38,
   "id": "671171c5",
   "metadata": {},
   "outputs": [
    {
     "name": "stdout",
     "output_type": "stream",
     "text": [
      "('apple', 'orange', 'banana', 'kiwi')\n"
     ]
    }
   ],
   "source": [
    "fruits=('apple', 'orange', 'banana', 'kiwi')\n",
    "print(fruits)"
   ]
  },
  {
   "cell_type": "code",
   "execution_count": 39,
   "id": "3e1c45fb",
   "metadata": {},
   "outputs": [
    {
     "name": "stdout",
     "output_type": "stream",
     "text": [
      "['__add__', '__class__', '__class_getitem__', '__contains__', '__delattr__', '__dir__', '__doc__', '__eq__', '__format__', '__ge__', '__getattribute__', '__getitem__', '__getnewargs__', '__getstate__', '__gt__', '__hash__', '__init__', '__init_subclass__', '__iter__', '__le__', '__len__', '__lt__', '__mul__', '__ne__', '__new__', '__reduce__', '__reduce_ex__', '__repr__', '__rmul__', '__setattr__', '__sizeof__', '__str__', '__subclasshook__', 'count', 'index']\n"
     ]
    }
   ],
   "source": [
    "print(dir(fruits))"
   ]
  },
  {
   "cell_type": "code",
   "execution_count": 40,
   "id": "39739234",
   "metadata": {},
   "outputs": [
    {
     "name": "stdout",
     "output_type": "stream",
     "text": [
      "2\n"
     ]
    }
   ],
   "source": [
    "print(fruits.index(\"banana\"))"
   ]
  },
  {
   "cell_type": "code",
   "execution_count": 42,
   "id": "b41ac2e6",
   "metadata": {},
   "outputs": [
    {
     "name": "stdout",
     "output_type": "stream",
     "text": [
      "('apple', 'orange', 'banana', 'kiwi', 'orange')\n"
     ]
    }
   ],
   "source": [
    "newtupple = ('apple', 'orange', 'banana', 'kiwi')\n",
    "y = (\"orange\",)  \n",
    "newtupple += y\n",
    "print(newtupple)"
   ]
  },
  {
   "cell_type": "code",
   "execution_count": 48,
   "id": "e8c74918",
   "metadata": {},
   "outputs": [
    {
     "name": "stdout",
     "output_type": "stream",
     "text": [
      "apple\n",
      "banana\n",
      "kiwi\n",
      "cherry\n"
     ]
    }
   ],
   "source": [
    "fruits = ('apple', 'banana', 'kiwi','cherry')\n",
    "green, yellow, red,blue = fruits\n",
    "print(green)\n",
    "print(yellow)\n",
    "print(red)\n",
    "print(blue)"
   ]
  },
  {
   "cell_type": "code",
   "execution_count": 50,
   "id": "71061083",
   "metadata": {},
   "outputs": [
    {
     "name": "stdout",
     "output_type": "stream",
     "text": [
      "apple\n",
      "banana\n",
      "kiwi cherry\n"
     ]
    }
   ],
   "source": [
    "(green,yellow,*red)= fruits\n",
    "print(green)\n",
    "print(yellow)\n",
    "print(*red)"
   ]
  },
  {
   "cell_type": "code",
   "execution_count": 51,
   "id": "bee9ed82",
   "metadata": {},
   "outputs": [],
   "source": [
    "t=(1,2,(3,4),[\"a\",\"b\"])\n"
   ]
  },
  {
   "cell_type": "code",
   "execution_count": 55,
   "id": "7493fcbf",
   "metadata": {},
   "outputs": [
    {
     "name": "stdout",
     "output_type": "stream",
     "text": [
      "['apple']\n"
     ]
    }
   ],
   "source": [
    "fruits = (\"apple\",)  \n",
    "del list  \n",
    "print(list(fruits))"
   ]
  },
  {
   "cell_type": "code",
   "execution_count": 60,
   "id": "e8c80b4f",
   "metadata": {},
   "outputs": [],
   "source": [
    "list=(1,\"hellow\",3.14,True)\n",
    "tuple=(1,\"hellow\",3.14,True)\n",
    "set=(1,\"hellow\",3.14,True)\n",
    "    "
   ]
  },
  {
   "cell_type": "code",
   "execution_count": 61,
   "id": "5b7771a9",
   "metadata": {},
   "outputs": [
    {
     "name": "stdout",
     "output_type": "stream",
     "text": [
      "(1, 'hellow', 3.14, True) (1, 'hellow', 3.14, True) (1, 'hellow', 3.14, True)\n"
     ]
    }
   ],
   "source": [
    "print(set,list,tuple)"
   ]
  },
  {
   "cell_type": "code",
   "execution_count": 62,
   "id": "a7984048",
   "metadata": {},
   "outputs": [
    {
     "name": "stdout",
     "output_type": "stream",
     "text": [
      "Banana is in the list of fruits.\n"
     ]
    }
   ],
   "source": [
    "fruit=[\"apple\", \"banana\", \"cherry\", \"date\", \"elderberry\"]\n",
    "if \"banana\" in fruit:\n",
    "    print(\"Banana is in the list of fruits.\")\n",
    "else:\n",
    "    print(\"Banana is not in the list of fruits.\")"
   ]
  },
  {
   "cell_type": "code",
   "execution_count": 66,
   "id": "a75ab2d7",
   "metadata": {},
   "outputs": [
    {
     "name": "stdout",
     "output_type": "stream",
     "text": [
      "apple\n",
      "banana\n",
      "cherry\n",
      "date\n",
      "elderberry\n",
      "['apple', 'banana', 'cherry', 'date', 'elderberry', 'apple', 'banana', 'cherry', 'date', 'elderberry']\n"
     ]
    }
   ],
   "source": [
    "i=0\n",
    "while i < len(fruit):\n",
    "    print(fruit[i])\n",
    "    i += 1\n",
    "print(fruit*2)"
   ]
  },
  {
   "cell_type": "code",
   "execution_count": 64,
   "id": "ce9d96aa",
   "metadata": {},
   "outputs": [
    {
     "name": "stdout",
     "output_type": "stream",
     "text": [
      "['apple', 'banana', 'cherry', 'date', 'elderberry', 'apple', 'banana', 'cherry', 'date', 'elderberry']\n"
     ]
    }
   ],
   "source": [
    "print(fruit*2)"
   ]
  },
  {
   "cell_type": "code",
   "execution_count": 72,
   "id": "65ec1d7c",
   "metadata": {},
   "outputs": [
    {
     "name": "stdout",
     "output_type": "stream",
     "text": [
      "{1: 'first', 'name': 'mrs', 'age': 20, 'courses': ['math', 'english', 'science']}\n"
     ]
    }
   ],
   "source": [
    "student={\n",
    "    1:\"first\",\n",
    "    \"name\":\"mrs\",\n",
    "    \"age\": 20,\n",
    "    \"courses\":[\"math\", \"english\", \"science\"],\n",
    "    \n",
    "}\n",
    "print(student)"
   ]
  },
  {
   "cell_type": "code",
   "execution_count": 74,
   "id": "19f4086a",
   "metadata": {},
   "outputs": [
    {
     "name": "stdout",
     "output_type": "stream",
     "text": [
      "['__class__', '__class_getitem__', '__contains__', '__delattr__', '__delitem__', '__dir__', '__doc__', '__eq__', '__format__', '__ge__', '__getattribute__', '__getitem__', '__getstate__', '__gt__', '__hash__', '__init__', '__init_subclass__', '__ior__', '__iter__', '__le__', '__len__', '__lt__', '__ne__', '__new__', '__or__', '__reduce__', '__reduce_ex__', '__repr__', '__reversed__', '__ror__', '__setattr__', '__setitem__', '__sizeof__', '__str__', '__subclasshook__', 'clear', 'copy', 'fromkeys', 'get', 'items', 'keys', 'pop', 'popitem', 'setdefault', 'update', 'values']\n"
     ]
    }
   ],
   "source": [
    "print(dir(student))"
   ]
  },
  {
   "cell_type": "code",
   "execution_count": 75,
   "id": "9331945d",
   "metadata": {},
   "outputs": [],
   "source": [
    "student=dict(name=\"mrs\", age=20, courses=[\"math\", \"english\", \"science\"])\n"
   ]
  },
  {
   "cell_type": "code",
   "execution_count": 78,
   "id": "c3a8c40e",
   "metadata": {},
   "outputs": [],
   "source": [
    "student[\"courses\"].append(\"history\")\n",
    "student[\"age\"]=21"
   ]
  },
  {
   "cell_type": "code",
   "execution_count": 79,
   "id": "3eaa2394",
   "metadata": {},
   "outputs": [
    {
     "name": "stdout",
     "output_type": "stream",
     "text": [
      "21\n"
     ]
    }
   ],
   "source": [
    "print(student[\"age\"])"
   ]
  },
  {
   "cell_type": "code",
   "execution_count": 80,
   "id": "41caca8d",
   "metadata": {},
   "outputs": [
    {
     "name": "stdout",
     "output_type": "stream",
     "text": [
      "mrs is in the student dictionary.\n"
     ]
    }
   ],
   "source": [
    "if \"mrs\" in student.values():\n",
    "    print(\"mrs is in the student dictionary.\")"
   ]
  },
  {
   "cell_type": "code",
   "execution_count": 81,
   "id": "0aff1ff2",
   "metadata": {},
   "outputs": [
    {
     "name": "stdout",
     "output_type": "stream",
     "text": [
      "name\n",
      "age\n",
      "courses\n",
      "mrs\n",
      "21\n",
      "['math', 'english', 'science', 'history', 'history', 'history']\n",
      "name: mrs\n",
      "age: 21\n",
      "courses: ['math', 'english', 'science', 'history', 'history', 'history']\n"
     ]
    }
   ],
   "source": [
    "for key in student:\n",
    "    print(key)\n",
    "for value in student.values():\n",
    "    print(value)\n",
    "for key, value in student.items():\n",
    "    print(f\"{key}: {value}\")\n",
    "    "
   ]
  },
  {
   "cell_type": "code",
   "execution_count": 82,
   "id": "c4b4ab2e",
   "metadata": {},
   "outputs": [
    {
     "name": "stdout",
     "output_type": "stream",
     "text": [
      "{0: 0, 1: 1, 2: 4, 3: 9, 4: 16}\n"
     ]
    }
   ],
   "source": [
    "squares={x: x**2 for x in range(5)}\n",
    "print(squares)"
   ]
  },
  {
   "cell_type": "code",
   "execution_count": null,
   "id": "2f8992db",
   "metadata": {},
   "outputs": [],
   "source": []
  }
 ],
 "metadata": {
  "kernelspec": {
   "display_name": "Python 3",
   "language": "python",
   "name": "python3"
  },
  "language_info": {
   "codemirror_mode": {
    "name": "ipython",
    "version": 3
   },
   "file_extension": ".py",
   "mimetype": "text/x-python",
   "name": "python",
   "nbconvert_exporter": "python",
   "pygments_lexer": "ipython3",
   "version": "3.13.5"
  }
 },
 "nbformat": 4,
 "nbformat_minor": 5
}
